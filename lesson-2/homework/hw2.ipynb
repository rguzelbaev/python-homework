## 1. Age Calculator
import datetime
name = input("Введите ваше имя: ")
year = int(input("Введите год рождения: "))
current_year = datetime.datetime.now().year
age = current_year - year
print(f"{name}, вам {age} лет.")
## 2. Extract Car Names (LMaasleitbtui)
txt = 'LMaasleitbtui'
cars = ["BMW", "Audi", "Toyota", "Lada", "Maserati"]
found = [c for c in cars if all(ch.lower() in txt.lower() for ch in c.lower())]
print("Найденные авто:", found)
## 3. Extract Car Names (MsaatmiazD)
txt = 'MsaatmiazD'
cars = ["BMW", "Audi", "Toyota", "Lada", "Maserati"]
found = [c for c in cars if all(ch.lower() in txt.lower() for ch in c.lower())]
print("Найденные авто:", found)
## 4. Extract Residence Area
txt = "I'am John. I am from London"
area = txt.split("from")[-1].strip()
print("Место жительства:", area)
## 5. Reverse String
s = input("Введите строку: ")
print("В обратном порядке:", s[::-1])
## 6. Count Vowels
s = input("Введите строку для подсчета гласных: ")
vowels = "aeiouAEIOUаеёиоуыэюяАЕЁИОУЫЭЮЯ"
count = sum(1 for ch in s if ch in vowels)
print("Количество гласных:", count)
## 7. Find Maximum Value
nums = list(map(int, input("Введите числа через пробел: ").split()))
print("Максимальное значение:", max(nums))
## 8. Check Palindrome
word = input("Введите слово: ")
if word.lower() == word.lower()[::-1]:
    print("Это палиндром")
else:
    print("Не палиндром")
## 9. Extract Email Domain
email = input("Введите email: ")
domain = email.split("@")[-1]
print("Домен почты:", domain)
## 10. Generate Random Password
import random, string
length = int(input("Введите длину пароля: "))
chars = string.ascii_letters + string.digits + string.punctuation
password = ''.join(random.choice(chars) for _ in range(length))
print("Случайный пароль:", password)
