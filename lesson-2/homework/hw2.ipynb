Вопросы:
Homework Exercises
1. Age Calculator
Write a Python program to ask for a user's name and year of birth, then calculate and display their age.

2. Extract Car Names
Extract car names from the following text:

txt = 'LMaasleitbtui'
3. Extract Car Names
Extract car names from the following text:

txt = 'MsaatmiazD'
4. Extract Residence Area
Extract the residence area from the following text:

txt = "I'am John. I am from London"
5. Reverse String
Write a Python program that takes a user input string and prints it in reverse order.

6. Count Vowels
Write a Python program that counts the number of vowels in a given string.

7. Find Maximum Value
Write a Python program that takes a list of numbers as input and prints the maximum value.

8. Check Palindrome
Write a Python program that checks if a given word is a palindrome (reads the same forward and backward).

9. Extract Email Domain
Write a Python program that extracts and prints the domain from an email address provided by the user.

10. Generate Random Password
Write a Python program to generate a random password containing letters, digits, and special characters.
